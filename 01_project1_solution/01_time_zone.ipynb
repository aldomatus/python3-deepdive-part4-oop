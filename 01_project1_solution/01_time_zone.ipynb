{
 "cells": [
  {
   "cell_type": "markdown",
   "metadata": {},
   "source": [
    "# Project 1: TimeZone Class"
   ]
  },
  {
   "cell_type": "code",
   "execution_count": 14,
   "metadata": {},
   "outputs": [],
   "source": [
    "import numbers\n",
    "from datetime import timedelta\n",
    "\n",
    "class TimeZone:\n",
    "    def __init__(self, name, offset_hours, offset_minutes):\n",
    "        if name is None or len(str(name).strip()) == 0:\n",
    "            raise ValueError('TimeZone name cannot be empty.')\n",
    "        \n",
    "        self._name = str(name).strip()\n",
    "\n",
    "        if not isinstance(offset_hours, numbers.Integral):\n",
    "            raise ValueError('Hour offset must be an integer')\n",
    "        \n",
    "        if not isinstance(offset_minutes, numbers.Integral):\n",
    "            raise ValueError('Minute offset must be an integer')\n",
    "\n",
    "        if offset_minutes > 59 or offset_minutes < -59:\n",
    "            raise ValueError('Minutes offset must be between -59 and 59 (inclusive). ')\n",
    "        \n",
    "        offset = timedelta(hours=offset_hours, minutes=offset_minutes)\n",
    "        if offset < timedelta(hours=-12, minutes=0) or offset > timedelta(hours=14, minutes=0):\n",
    "            raise ValueError('Offset mut be between -12:00 and and +14:00.')\n",
    "\n",
    "        self._offset_hours = offset_hours\n",
    "        self._offset_minutes = offset_minutes\n",
    "        self._offset = offset\n",
    "\n",
    "    @property\n",
    "    def offset(self):\n",
    "        return self._offset\n",
    "    \n",
    "    @property\n",
    "    def name(self):\n",
    "        return self._name\n",
    "\n",
    "    def __eq__(self, other):\n",
    "        return (\n",
    "            isinstance(other, TimeZone) and\n",
    "            self.name == other.name and \n",
    "            self._offset_hours == other._offset_hours and \n",
    "            self._offset_minutes == other._offset_minutes\n",
    "        )\n",
    "\n",
    "    def __repr__(self):\n",
    "        return (f\"TimeZone(name='{self.name}', \"\n",
    "                f\"offset_hours={self._offset_hours}, \"\n",
    "                f\"offset_minutes={self._offset_minutes})\")\n",
    "  "
   ]
  },
  {
   "cell_type": "code",
   "execution_count": 15,
   "metadata": {},
   "outputs": [
    {
     "ename": "ValueError",
     "evalue": "Offset mut be between -12:00 and and +14:00.",
     "output_type": "error",
     "traceback": [
      "\u001b[0;31m---------------------------------------------------------------------------\u001b[0m",
      "\u001b[0;31mValueError\u001b[0m                                Traceback (most recent call last)",
      "Cell \u001b[0;32mIn[15], line 1\u001b[0m\n\u001b[0;32m----> 1\u001b[0m tz1 \u001b[39m=\u001b[39m TimeZone(\u001b[39m'\u001b[39;49m\u001b[39mABC\u001b[39;49m\u001b[39m'\u001b[39;49m, \u001b[39m-\u001b[39;49m\u001b[39m2\u001b[39;49m, \u001b[39m-\u001b[39;49m\u001b[39m15\u001b[39;49m)\n",
      "Cell \u001b[0;32mIn[14], line 22\u001b[0m, in \u001b[0;36mTimeZone.__init__\u001b[0;34m(self, name, offset_hours, offset_minutes)\u001b[0m\n\u001b[1;32m     20\u001b[0m offset \u001b[39m=\u001b[39m timedelta(hours\u001b[39m=\u001b[39moffset_hours, minutes\u001b[39m=\u001b[39moffset_minutes)\n\u001b[1;32m     21\u001b[0m \u001b[39mif\u001b[39;00m offset \u001b[39m<\u001b[39m timedelta(hours\u001b[39m=\u001b[39m\u001b[39m12\u001b[39m, minutes\u001b[39m=\u001b[39m\u001b[39m0\u001b[39m) \u001b[39mor\u001b[39;00m offset \u001b[39m>\u001b[39m timedelta(hours\u001b[39m=\u001b[39m\u001b[39m14\u001b[39m, minutes\u001b[39m=\u001b[39m\u001b[39m0\u001b[39m):\n\u001b[0;32m---> 22\u001b[0m     \u001b[39mraise\u001b[39;00m \u001b[39mValueError\u001b[39;00m(\u001b[39m'\u001b[39m\u001b[39mOffset mut be between -12:00 and and +14:00.\u001b[39m\u001b[39m'\u001b[39m)\n\u001b[1;32m     24\u001b[0m \u001b[39mself\u001b[39m\u001b[39m.\u001b[39m_offset_hours \u001b[39m=\u001b[39m offset_hours\n\u001b[1;32m     25\u001b[0m \u001b[39mself\u001b[39m\u001b[39m.\u001b[39m_offset_minutes \u001b[39m=\u001b[39m offset_minutes\n",
      "\u001b[0;31mValueError\u001b[0m: Offset mut be between -12:00 and and +14:00."
     ]
    }
   ],
   "source": [
    "tz1 = TimeZone('ABC', -2, -15)"
   ]
  }
 ],
 "metadata": {
  "kernelspec": {
   "display_name": "Python 3.8.15 64-bit ('3.8.15')",
   "language": "python",
   "name": "python3"
  },
  "language_info": {
   "codemirror_mode": {
    "name": "ipython",
    "version": 3
   },
   "file_extension": ".py",
   "mimetype": "text/x-python",
   "name": "python",
   "nbconvert_exporter": "python",
   "pygments_lexer": "ipython3",
   "version": "3.8.15"
  },
  "orig_nbformat": 4,
  "vscode": {
   "interpreter": {
    "hash": "52d8e0614c56ca565789df75319c30a030e769e5c188bd29e2401d35c73fa527"
   }
  }
 },
 "nbformat": 4,
 "nbformat_minor": 2
}
