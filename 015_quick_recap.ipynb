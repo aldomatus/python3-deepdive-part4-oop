{
 "cells": [
  {
   "cell_type": "markdown",
   "metadata": {},
   "source": [
    "# Recap"
   ]
  },
  {
   "cell_type": "code",
   "execution_count": 4,
   "metadata": {},
   "outputs": [],
   "source": [
    "class Circle:\n",
    "    origin = (0, 0)\n",
    "\n",
    "    def __init__(self, r):\n",
    "        self._r = r\n",
    "    \n",
    "    @staticmethod\n",
    "    def create_unit_circle():\n",
    "        return Circle(1)\n",
    "\n",
    "    @classmethod\n",
    "    def set_origin(cls, x, y):\n",
    "        cls.origin = (x, y)\n",
    "    \n",
    "    def double_radius(self):\n",
    "        self._r *= 2\n",
    "\n",
    "    @property\n",
    "    def radius(self):\n",
    "        return self._r\n",
    "    \n",
    "    @radius.setter\n",
    "    def radius(self, value):\n",
    "        self._r = value"
   ]
  },
  {
   "cell_type": "code",
   "execution_count": 5,
   "metadata": {},
   "outputs": [
    {
     "data": {
      "text/plain": [
       "<__main__.Circle at 0x107f94550>"
      ]
     },
     "execution_count": 5,
     "metadata": {},
     "output_type": "execute_result"
    }
   ],
   "source": [
    "Circle.create_unit_circle()"
   ]
  },
  {
   "cell_type": "code",
   "execution_count": null,
   "metadata": {},
   "outputs": [],
   "source": []
  }
 ],
 "metadata": {
  "kernelspec": {
   "display_name": "Python 3.9.6 ('.venv': venv)",
   "language": "python",
   "name": "python3"
  },
  "language_info": {
   "codemirror_mode": {
    "name": "ipython",
    "version": 3
   },
   "file_extension": ".py",
   "mimetype": "text/x-python",
   "name": "python",
   "nbconvert_exporter": "python",
   "pygments_lexer": "ipython3",
   "version": "3.9.6"
  },
  "orig_nbformat": 4,
  "vscode": {
   "interpreter": {
    "hash": "d468d8f62917382ee217cb1fd16e1fec109707928f85c0a9258f647940fb03ad"
   }
  }
 },
 "nbformat": 4,
 "nbformat_minor": 2
}
